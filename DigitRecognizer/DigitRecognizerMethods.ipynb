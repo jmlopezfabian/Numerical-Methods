{
 "cells": [
  {
   "attachments": {},
   "cell_type": "markdown",
   "metadata": {},
   "source": [
    "# Digit Recognition"
   ]
  },
  {
   "cell_type": "code",
   "execution_count": 69,
   "metadata": {},
   "outputs": [],
   "source": [
    "import pandas as pd\n",
    "import numpy as np\n",
    "from PIL import Image\n"
   ]
  },
  {
   "cell_type": "code",
   "execution_count": 70,
   "metadata": {},
   "outputs": [],
   "source": [
    "img1 = Image.open(\"./Data/0_1.jpg\")\n",
    "img2 = Image.open(\"./Data/0_2.jpg\")"
   ]
  },
  {
   "cell_type": "code",
   "execution_count": 71,
   "metadata": {},
   "outputs": [],
   "source": [
    "#Pasando las imagenes a un arreglo de numpy\n",
    "arr1 = np.array(img1)\n",
    "arr2 = np.array(img2)\n",
    "\n",
    "#Convirtiendo imagenes a escala de grises\n",
    "gray_array1 = np.mean(arr1,axis=2)\n",
    "gray_array2 = np.mean(arr2,axis=2)"
   ]
  },
  {
   "cell_type": "code",
   "execution_count": 72,
   "metadata": {},
   "outputs": [],
   "source": [
    "img1_cpy = Image.open(\"./Data/0_1.jpg\")\n",
    "arr_cpy = np.array(img1_cpy)\n",
    "gray_arrcpy = np.mean(arr_cpy,axis = 2)"
   ]
  },
  {
   "attachments": {},
   "cell_type": "markdown",
   "metadata": {},
   "source": [
    "## Primer método"
   ]
  },
  {
   "cell_type": "code",
   "execution_count": 73,
   "metadata": {},
   "outputs": [
    {
     "data": {
      "text/plain": [
       "True"
      ]
     },
     "execution_count": 73,
     "metadata": {},
     "output_type": "execute_result"
    }
   ],
   "source": [
    "def primer_metodo(arr_imagen1, arr_imagen2):\n",
    "    h,w = arr_imagen1.shape\n",
    "    #Si la imagen 1 es igual a la imagen 2, retorna True. En caso contrario, retorna Flase\n",
    "    for i in range(0,h):\n",
    "        for j in range(0,w):\n",
    "            if(arr_imagen1[i,j] != arr_imagen2[i,j]):\n",
    "                return False\n",
    "            else:\n",
    "                continue\n",
    "    return True\n",
    "\n",
    "primer_metodo(gray_array1,gray_arrcpy)"
   ]
  },
  {
   "attachments": {},
   "cell_type": "markdown",
   "metadata": {},
   "source": [
    "## Segundo método\n"
   ]
  },
  {
   "cell_type": "code",
   "execution_count": 74,
   "metadata": {},
   "outputs": [
    {
     "name": "stdout",
     "output_type": "stream",
     "text": [
      "La imagen coincide un 86.62 %\n"
     ]
    }
   ],
   "source": [
    "def segundo_metodo(arr_imagen1,arr_imagen2):\n",
    "    contador = 0\n",
    "    h,w = arr_imagen1.shape\n",
    "    for i in range(0,h):\n",
    "        for j in range(0,w):\n",
    "            if(arr_imagen1[i,j] == arr_imagen2[i,j]):\n",
    "                contador += 1\n",
    "            else:\n",
    "                continue\n",
    "    return (contador / arr_imagen1.size) * 100\n",
    "\n",
    "print(f\"La imagen coincide un {round(segundo_metodo(gray_array1,gray_array2),2)} %\")"
   ]
  },
  {
   "cell_type": "code",
   "execution_count": 75,
   "metadata": {},
   "outputs": [
    {
     "name": "stdout",
     "output_type": "stream",
     "text": [
      "La imagen coincide un 82.99 %\n"
     ]
    }
   ],
   "source": [
    "#Probando el segundo método con la imagen de un \"2\"\n",
    "\n",
    "img3 = Image.open(\"./Data/2_1.jpg\")\n",
    "img3 = img3.resize((155,137))\n",
    "arr_img3 = np.array(img3)\n",
    "gray_array3 = np.mean(arr_img3,axis = 2)\n",
    "\n",
    "\n",
    "img12 = Image.fromarray(gray_array3)\n",
    "print(f\"La imagen coincide un {round(segundo_metodo(gray_array1,gray_array3),2)} %\")\n",
    "#img12.show()\n",
    "#img1.show()"
   ]
  }
 ],
 "metadata": {
  "kernelspec": {
   "display_name": "Python 3",
   "language": "python",
   "name": "python3"
  },
  "language_info": {
   "codemirror_mode": {
    "name": "ipython",
    "version": 3
   },
   "file_extension": ".py",
   "mimetype": "text/x-python",
   "name": "python",
   "nbconvert_exporter": "python",
   "pygments_lexer": "ipython3",
   "version": "3.9.13"
  },
  "orig_nbformat": 4
 },
 "nbformat": 4,
 "nbformat_minor": 2
}
