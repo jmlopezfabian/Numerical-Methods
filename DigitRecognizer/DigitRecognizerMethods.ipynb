{
 "cells": [
  {
   "attachments": {},
   "cell_type": "markdown",
   "metadata": {},
   "source": [
    "# Digit Recognition"
   ]
  },
  {
   "cell_type": "code",
   "execution_count": 48,
   "metadata": {},
   "outputs": [
    {
     "ename": "ModuleNotFoundError",
     "evalue": "No module named 'skimage'",
     "output_type": "error",
     "traceback": [
      "\u001b[0;31m---------------------------------------------------------------------------\u001b[0m",
      "\u001b[0;31mModuleNotFoundError\u001b[0m                       Traceback (most recent call last)",
      "Cell \u001b[0;32mIn[48], line 4\u001b[0m\n\u001b[1;32m      2\u001b[0m \u001b[39mimport\u001b[39;00m \u001b[39mnumpy\u001b[39;00m \u001b[39mas\u001b[39;00m \u001b[39mnp\u001b[39;00m\n\u001b[1;32m      3\u001b[0m \u001b[39mfrom\u001b[39;00m \u001b[39mPIL\u001b[39;00m \u001b[39mimport\u001b[39;00m Image\n\u001b[0;32m----> 4\u001b[0m \u001b[39mfrom\u001b[39;00m \u001b[39mskimage\u001b[39;00m \u001b[39mimport\u001b[39;00m io\n",
      "\u001b[0;31mModuleNotFoundError\u001b[0m: No module named 'skimage'"
     ]
    }
   ],
   "source": [
    "import pandas as pd\n",
    "import numpy as np\n",
    "from PIL import Image\n"
   ]
  },
  {
   "cell_type": "code",
   "execution_count": 13,
   "metadata": {},
   "outputs": [],
   "source": [
    "image_0 = Image.open(\"./dataset/0/0/0.png\")\n",
    "image_1 = Image.open(\"./dataset/1/1/0.png\")\n",
    "image_2 = Image.open(\"./dataset/2/2/0.png\")\n",
    "image_3 = Image.open(\"./dataset/3/3/0.png\")\n",
    "image_4 = Image.open(\"./dataset/4/4/0.png\")\n",
    "image_5 = Image.open(\"./dataset/5/5/0.png\")\n",
    "image_6 = Image.open(\"./dataset/6/6/0.png\")\n",
    "image_7 = Image.open(\"./dataset/7/7/0.png\")\n",
    "image_8 = Image.open(\"./dataset/8/8/0.png\")\n",
    "image_9 = Image.open(\"./dataset/9/9/0.png\")"
   ]
  },
  {
   "cell_type": "code",
   "execution_count": 14,
   "metadata": {},
   "outputs": [],
   "source": [
    "image_9.show()"
   ]
  },
  {
   "cell_type": "code",
   "execution_count": 56,
   "metadata": {},
   "outputs": [
    {
     "name": "stdout",
     "output_type": "stream",
     "text": [
      "(28, 28)\n"
     ]
    },
    {
     "ename": "TypeError",
     "evalue": "'PngImageFile' object is not subscriptable",
     "output_type": "error",
     "traceback": [
      "\u001b[0;31m---------------------------------------------------------------------------\u001b[0m",
      "\u001b[0;31mTypeError\u001b[0m                                 Traceback (most recent call last)",
      "Cell \u001b[0;32mIn[56], line 9\u001b[0m\n\u001b[1;32m      7\u001b[0m \u001b[39mprint\u001b[39m(imagen1\u001b[39m.\u001b[39msize)\n\u001b[1;32m      8\u001b[0m arr \u001b[39m=\u001b[39m np\u001b[39m.\u001b[39masarray(imagen1)\n\u001b[0;32m----> 9\u001b[0m imagen1[:,:,:]\n\u001b[1;32m     12\u001b[0m \u001b[39m#new_image = np.zeros((h,w))\u001b[39;00m\n\u001b[1;32m     13\u001b[0m \u001b[39m#for i in range(h):\u001b[39;00m\n\u001b[1;32m     14\u001b[0m \u001b[39m#    for j in range(w):\u001b[39;00m\n\u001b[1;32m     15\u001b[0m \u001b[39m#        new_image[i][j] = image_1[i][j]\u001b[39;00m\n\u001b[1;32m     16\u001b[0m \u001b[39m#        print(image_1[i][j])\u001b[39;00m\n",
      "\u001b[0;31mTypeError\u001b[0m: 'PngImageFile' object is not subscriptable"
     ]
    }
   ],
   "source": [
    "#Pasar imagenes a grises\n",
    "imagen1 = Image.open(\"./dataset/0/0/1.png\")\n",
    "imagen2 = Image.open(\"./dataset/0/0/0.png\")\n",
    "\n",
    "h,w = imagen1.size\n",
    "\n",
    "print(imagen1.size)\n",
    "arr = np.asarray(imagen1)\n",
    "\n",
    "\n",
    "\n",
    "#new_image = np.zeros((h,w))\n",
    "#for i in range(h):\n",
    "#    for j in range(w):\n",
    "#        new_image[i][j] = image_1[i][j]\n",
    "#        print(image_1[i][j])\n",
    "\n",
    "\n"
   ]
  },
  {
   "cell_type": "code",
   "execution_count": 20,
   "metadata": {},
   "outputs": [
    {
     "name": "stdout",
     "output_type": "stream",
     "text": [
      "0\n"
     ]
    }
   ],
   "source": [
    "# Primer metodo.\n",
    "imagen_comparar = Image.open(\"./dataset/0/0/1.png\")\n",
    "\n",
    "img_0array = np.asarray(image_0)\n",
    "imagen_comparar_array = np.asanyarray(imagen_comparar)\n",
    "\n",
    "#def primerMetodo(arr_imagen1, arr_imagen2):\n",
    "#    #Si la imagen 1 es igual a la imagen 2, retorna True. En caso contrario, retorna Flase\n",
    "#    for i in range(len(img_0array)):\n",
    "#        #print(f\"{img_0array[i]}     {imagen_comparar_array[i]}\",end = \"\\n\")\n",
    "#        #if(img_0array[i] != imagen_comparar_array[i]):\n",
    "#        #    return False\n",
    "#        #else:\n",
    "#        #    return True\n",
    "\n",
    "\n",
    "print(imagen_comparar_array[0][0][0])\n",
    "#print(primerMetodo(img_0array, imagen_comparar_array))"
   ]
  },
  {
   "cell_type": "markdown",
   "metadata": {},
   "source": [
    "#"
   ]
  }
 ],
 "metadata": {
  "kernelspec": {
   "display_name": "Python 3",
   "language": "python",
   "name": "python3"
  },
  "language_info": {
   "codemirror_mode": {
    "name": "ipython",
    "version": 3
   },
   "file_extension": ".py",
   "mimetype": "text/x-python",
   "name": "python",
   "nbconvert_exporter": "python",
   "pygments_lexer": "ipython3",
   "version": "3.8.10"
  },
  "orig_nbformat": 4
 },
 "nbformat": 4,
 "nbformat_minor": 2
}
