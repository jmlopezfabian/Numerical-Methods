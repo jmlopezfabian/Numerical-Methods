{
 "cells": [
  {
   "attachments": {},
   "cell_type": "markdown",
   "metadata": {},
   "source": [
    "# Digit Recognition"
   ]
  },
  {
   "cell_type": "code",
   "execution_count": 15,
   "metadata": {},
   "outputs": [],
   "source": [
    "import pandas as pd\n",
    "import numpy as np\n",
    "from PIL import Image\n"
   ]
  },
  {
   "cell_type": "code",
   "execution_count": 16,
   "metadata": {},
   "outputs": [],
   "source": [
    "img1 = Image.open(\"./Data/12752.jpg\")\n",
    "\n",
    "img2 = Image.open(\"./Data/13230.jpg\")"
   ]
  },
  {
   "cell_type": "code",
   "execution_count": 17,
   "metadata": {},
   "outputs": [
    {
     "name": "stdout",
     "output_type": "stream",
     "text": [
      "(137, 155, 3)\n"
     ]
    },
    {
     "data": {
      "text/plain": [
       "(137, 155)"
      ]
     },
     "execution_count": 17,
     "metadata": {},
     "output_type": "execute_result"
    }
   ],
   "source": [
    "#Pasando las imagenes a un arreglo de numpy\n",
    "arr1 = np.array(img1)\n",
    "arr2 = np.array(img2)\n",
    "\n",
    "print(arr1.shape)\n",
    "\n",
    "\n",
    "#Convirtiendo imagenes a escala de grises\n",
    "gray_array1 = np.mean(arr1,axis=2)\n",
    "gray_array2 = np.mean(arr2,axis=2)\n",
    "\n",
    "gray_array1.shape"
   ]
  },
  {
   "attachments": {},
   "cell_type": "markdown",
   "metadata": {},
   "source": [
    "## Primer metodo\n",
    "\n",
    "El primer metodo consiste en recorrer toda "
   ]
  },
  {
   "cell_type": "code",
   "execution_count": 24,
   "metadata": {},
   "outputs": [
    {
     "data": {
      "text/plain": [
       "True"
      ]
     },
     "execution_count": 24,
     "metadata": {},
     "output_type": "execute_result"
    }
   ],
   "source": [
    "# Primer metodo.\n",
    "img1_cpy = Image.open(\"./Data/12752.jpg\")\n",
    "arr_cpy = np.array(img1_cpy)\n",
    "gray_arrcpy = np.mean(arr_cpy,axis = 2)\n",
    "\n",
    "def primerMetodo(arr_imagen1, arr_imagen2):\n",
    "    h,w = arr_imagen1.shape\n",
    "    #Si la imagen 1 es igual a la imagen 2, retorna True. En caso contrario, retorna Flase\n",
    "    for i in range(0,h):\n",
    "        for j in range(0,w):\n",
    "            if(arr_imagen1[i,j] != arr_imagen2[i,j]):\n",
    "                return False\n",
    "            else:\n",
    "                continue\n",
    "    return True\n",
    "\n",
    "primerMetodo(gray_array1,gray_arrcpy)"
   ]
  },
  {
   "cell_type": "markdown",
   "metadata": {},
   "source": [
    "#"
   ]
  }
 ],
 "metadata": {
  "kernelspec": {
   "display_name": "Python 3",
   "language": "python",
   "name": "python3"
  },
  "language_info": {
   "codemirror_mode": {
    "name": "ipython",
    "version": 3
   },
   "file_extension": ".py",
   "mimetype": "text/x-python",
   "name": "python",
   "nbconvert_exporter": "python",
   "pygments_lexer": "ipython3",
   "version": "3.9.13"
  },
  "orig_nbformat": 4
 },
 "nbformat": 4,
 "nbformat_minor": 2
}
