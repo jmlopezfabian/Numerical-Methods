{
 "cells": [
  {
   "attachments": {},
   "cell_type": "markdown",
   "metadata": {},
   "source": [
    "# Iteración de punto fijo\n",
    "\n",
    "### Puntos fijos de una funcion\n",
    "\n",
    "Definicion: Un número real a es un **punto fijo** de la funcion $g$ si $$g(a) = a$$\n",
    "\n",
    "Una vez que la ecuación se escribe como $g(x) = x$, procede la iteración, empezando con una estimación inicial $x_{0}$ para despues iterar la funcion $g$\n",
    "\n",
    "Supongamos que queremos encontrar una solución de la ecuación $f(x) = 0$. El método del punto fijo implica reescribir esta ecuación en la forma $x = g(x)$, donde $g(x)$ es una función continua y diferenciable que converge a la solución deseada."
   ]
  },
  {
   "cell_type": "code",
   "execution_count": 61,
   "metadata": {},
   "outputs": [],
   "source": [
    "import matplotlib.pyplot as plt\n",
    "import math\n",
    "import numpy as np"
   ]
  },
  {
   "cell_type": "code",
   "execution_count": 59,
   "metadata": {},
   "outputs": [],
   "source": [
    "\n",
    "def punto_fijo(g, x0, Nmax, epsilon):\n",
    "    # Inicializar la iteración\n",
    "    x = x0\n",
    "    # Iterar hasta alcanzar la tolerancia o el número máximo de iteraciones\n",
    "    for i in range(Nmax):\n",
    "        # Calcular el siguiente valor de x\n",
    "        x_next = g(x)\n",
    "        # Verificar la tolerancia de error\n",
    "        if abs((x_next - x)/x_next) < epsilon:\n",
    "            return x_next\n",
    "        # Actualizar el valor de x\n",
    "        x = x_next\n",
    "    # Si no se alcanza la tolerancia después del número máximo de iteraciones, se devuelve None\n",
    "    return None"
   ]
  },
  {
   "cell_type": "code",
   "execution_count": 60,
   "metadata": {},
   "outputs": [
    {
     "name": "stdout",
     "output_type": "stream",
     "text": [
      "La solución es: 2.094568121104185\n"
     ]
    }
   ],
   "source": [
    "# Definir la función g(x)\n",
    "def g(x):\n",
    "    return x - (x**3 - 2*x - 5) / (3*x**2 - 2)\n",
    "\n",
    "# Llamar al método del punto fijo\n",
    "solucion = punto_fijo(g, 2, 100, 0.01)\n",
    "\n",
    "# Imprimir la solución\n",
    "if solucion is not None:\n",
    "    print(\"La solución es:\", solucion)\n",
    "else:\n",
    "    print(\"El método del punto fijo no converge.\")\n"
   ]
  }
 ],
 "metadata": {
  "kernelspec": {
   "display_name": "Python 3",
   "language": "python",
   "name": "python3"
  },
  "language_info": {
   "codemirror_mode": {
    "name": "ipython",
    "version": 3
   },
   "file_extension": ".py",
   "mimetype": "text/x-python",
   "name": "python",
   "nbconvert_exporter": "python",
   "pygments_lexer": "ipython3",
   "version": "3.9.13"
  },
  "orig_nbformat": 4
 },
 "nbformat": 4,
 "nbformat_minor": 2
}
