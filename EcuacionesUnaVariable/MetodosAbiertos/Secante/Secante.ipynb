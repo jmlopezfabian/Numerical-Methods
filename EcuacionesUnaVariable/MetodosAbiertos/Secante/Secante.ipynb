{
 "cells": [
  {
   "attachments": {},
   "cell_type": "markdown",
   "metadata": {},
   "source": [
    "# Método de la secante\n",
    "\n",
    "El método de la secante es un algoritmo iterativo utilizado para encontrar las raíces de una función. Es similar al método de Newton-Raphson, pero en lugar de utilizar la derivada de la función, se utiliza una aproximación de la misma que se obtiene a partir de dos puntos iniciales.\n",
    "\n",
    "La idea básica del método es aproximar la función $f(x)$ en la vecindad de la raíz $x_n$ utilizando una recta que pasa por dos puntos $(x_{n-1}, f(x_{n-1}))$ y $(x_n, f(x_n))$. Esta recta se conoce como la línea secante y se utiliza para aproximar la posición de la raíz en la siguiente iteración.\n",
    "\n",
    "La ecuación de la línea secante se puede escribir como:\n",
    "\n",
    "$f(x) \\approx f(x_n) + \\frac{f(x_n) - f(x_{n-1})}{x_n - x_{n-1}}(x - x_n)$\n",
    "\n",
    "Luego, se encuentra la raíz de esta aproximación lineal, que es:\n",
    "\n",
    "$x_{n+1} = x_n - \\frac{(x_n - x_{n-1}) f(x_n)}{f(x_n) - f(x_{n-1})}$\n",
    "\n",
    "Este proceso se repite hasta que la diferencia entre dos aproximaciones sucesivas de la raíz sea menor que una tolerancia dada.\n",
    "\n",
    "El método de la secante es un poco más lento que el método de Newton-Raphson, ya que requiere dos puntos iniciales en lugar de uno, pero es más robusto y funciona para una amplia variedad de funciones. Además, el método de la secante no requiere calcular la derivada de la función, lo que puede ser una ventaja si la función es difícil de derivar o la derivada es costosa de calcular."
   ]
  },
  {
   "cell_type": "code",
   "execution_count": 1,
   "metadata": {},
   "outputs": [],
   "source": [
    "def secante(f, x0, x1, tol, max_iter):\n",
    "    \"\"\"\n",
    "    Implementación del método de la secante para encontrar una raíz de una función.\n",
    "\n",
    "    Args:\n",
    "        f (function): La función cuya raíz se desea encontrar.\n",
    "        x0 (float): El primer punto inicial.\n",
    "        x1 (float): El segundo punto inicial.\n",
    "        tol (float): La tolerancia del error.\n",
    "        max_iter (int): El número máximo de iteraciones permitidas.\n",
    "\n",
    "    Returns:\n",
    "        float: La aproximación de la raíz de la función.\n",
    "    \"\"\"\n",
    "    i = 0\n",
    "    while i < max_iter:\n",
    "        fx0 = f(x0)\n",
    "        fx1 = f(x1)\n",
    "        x2 = x1 - ((x1 - x0) * fx1) / (fx1 - fx0)\n",
    "        if abs(x2 - x1) < tol:\n",
    "            return x2\n",
    "        x0, x1 = x1, x2\n",
    "        i += 1\n",
    "    print(\"Máximo número de iteraciones alcanzado.\")"
   ]
  },
  {
   "attachments": {},
   "cell_type": "markdown",
   "metadata": {},
   "source": [
    "## Implementación \n",
    "\n",
    "Implementación del método de la secante en Python para encontrar la raíz de la función $f(x) = x^3 - 2x - 5$:\n"
   ]
  },
  {
   "cell_type": "code",
   "execution_count": 2,
   "metadata": {},
   "outputs": [],
   "source": [
    "def f(x):\n",
    "    return x**3 - 2*x - 5"
   ]
  },
  {
   "cell_type": "code",
   "execution_count": 3,
   "metadata": {},
   "outputs": [
    {
     "name": "stdout",
     "output_type": "stream",
     "text": [
      "La raíz aproximada de la función es: 2.0945514815423265\n"
     ]
    }
   ],
   "source": [
    "x0 = 1\n",
    "x1 = 2\n",
    "tol = 1e-6\n",
    "max_iter = 100\n",
    "\n",
    "raiz = secante(f, x0, x1, tol, max_iter)\n",
    "\n",
    "print(\"La raíz aproximada de la función es:\", raiz)"
   ]
  }
 ],
 "metadata": {
  "kernelspec": {
   "display_name": "Python 3",
   "language": "python",
   "name": "python3"
  },
  "language_info": {
   "codemirror_mode": {
    "name": "ipython",
    "version": 3
   },
   "file_extension": ".py",
   "mimetype": "text/x-python",
   "name": "python",
   "nbconvert_exporter": "python",
   "pygments_lexer": "ipython3",
   "version": "3.8.10"
  },
  "orig_nbformat": 4
 },
 "nbformat": 4,
 "nbformat_minor": 2
}
