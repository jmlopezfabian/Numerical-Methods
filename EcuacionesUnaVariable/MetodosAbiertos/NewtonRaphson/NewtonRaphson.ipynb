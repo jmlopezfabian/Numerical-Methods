{
 "cells": [
  {
   "attachments": {},
   "cell_type": "markdown",
   "metadata": {},
   "source": [
    "# Método de Newton-Raphson\n",
    "\n",
    "El método de Newton-Raphson es un algoritmo iterativo utilizado para encontrar las raíces de una función. Dado un valor inicial de la raíz, el método utiliza la derivada de la función para encontrar una aproximación más precisa de la raíz. La idea básica del método es aproximar la función $f(x)$ en la vecindad de la raíz $x_n$ utilizando su serie de Taylor de primer orden:\n",
    "\n",
    "$f(x) \\approx f(x_n) + f'(x_n)(x - x_n)$\n",
    "\n",
    "Luego, se encuentra la raíz de esta aproximación lineal, que es:\n",
    "\n",
    "$x_{n+1} = x_n - \\frac{f(x_n)}{f'(x_n)}$\n",
    "\n",
    "Este proceso se repite hasta que la diferencia entre dos aproximaciones sucesivas de la raíz sea menor que una tolerancia dada.\n",
    "\n",
    "Aquí está el código explícito del método de Newton-Raphson en Python:"
   ]
  },
  {
   "cell_type": "code",
   "execution_count": 1,
   "metadata": {},
   "outputs": [],
   "source": [
    "def newton_raphson(f, df, x0, tol=1e-6, max_iter=100):\n",
    "    \"\"\"\n",
    "    Implementación del método de Newton-Raphson para encontrar una raíz de una función.\n",
    "\n",
    "    :param f: Función a encontrar la raíz.\n",
    "    :param df: Derivada de la función f.\n",
    "    :param x0: Valor inicial de la raíz.\n",
    "    :param tol: Tolerancia del error.\n",
    "    :param max_iter: Número máximo de iteraciones.\n",
    "    :return: La raíz encontrada.\n",
    "    \"\"\"\n",
    "\n",
    "    # Inicializar la iteración\n",
    "    x = x0\n",
    "    i = 0\n",
    "\n",
    "    # Iterar mientras no se alcance el número máximo de iteraciones\n",
    "    while i < max_iter:\n",
    "        # Calcular el valor de la función y su derivada en la iteración actual\n",
    "        y = f(x)\n",
    "        dy = df(x)\n",
    "\n",
    "        # Calcular la siguiente aproximación de la raíz utilizando la fórmula de Newton-Raphson\n",
    "        x_next = x - y / dy\n",
    "\n",
    "        # Comprobar si la diferencia entre las dos últimas aproximaciones de la raíz es menor que la tolerancia\n",
    "        if abs(x_next - x) < tol:\n",
    "            return x_next\n",
    "\n",
    "        # Actualizar la aproximación de la raíz y el contador de iteraciones\n",
    "        x = x_next\n",
    "        i += 1\n",
    "\n",
    "    # Si no se alcanza la tolerancia en el número máximo de iteraciones, retornar None\n",
    "    return None"
   ]
  },
  {
   "attachments": {},
   "cell_type": "markdown",
   "metadata": {},
   "source": [
    "## Implementación:"
   ]
  },
  {
   "cell_type": "code",
   "execution_count": 2,
   "metadata": {},
   "outputs": [],
   "source": [
    "def f(x):\n",
    "    return x ** 2 - 2"
   ]
  },
  {
   "cell_type": "code",
   "execution_count": 3,
   "metadata": {},
   "outputs": [],
   "source": [
    "def df(x):\n",
    "    return 2 * x"
   ]
  },
  {
   "cell_type": "code",
   "execution_count": 4,
   "metadata": {},
   "outputs": [
    {
     "name": "stdout",
     "output_type": "stream",
     "text": [
      "La raíz cuadrada de 2 es: 1.4142135623730951\n"
     ]
    }
   ],
   "source": [
    "x0 = 1.0\n",
    "tol = 1e-6\n",
    "\n",
    "raiz = newton_raphson(f, df, x0, tol)\n",
    "\n",
    "print(raiz)"
   ]
  }
 ],
 "metadata": {
  "kernelspec": {
   "display_name": "Python 3",
   "language": "python",
   "name": "python3"
  },
  "language_info": {
   "codemirror_mode": {
    "name": "ipython",
    "version": 3
   },
   "file_extension": ".py",
   "mimetype": "text/x-python",
   "name": "python",
   "nbconvert_exporter": "python",
   "pygments_lexer": "ipython3",
   "version": "3.8.10"
  },
  "orig_nbformat": 4
 },
 "nbformat": 4,
 "nbformat_minor": 2
}
