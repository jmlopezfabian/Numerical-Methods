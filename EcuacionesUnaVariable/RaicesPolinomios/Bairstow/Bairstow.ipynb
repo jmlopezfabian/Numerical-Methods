{
 "cells": [
  {
   "attachments": {},
   "cell_type": "markdown",
   "metadata": {},
   "source": [
    "## Método de Bairstow\n",
    "\n",
    "El método de Bairstow es un algoritmo numérico utilizado para encontrar las raíces de un polinomio. Es una extensión del método de Newton-Raphson y se basa en la división sintética para reducir gradualmente el polinomio original a una forma más simple.\n",
    "\n",
    "### Pasos del método:\n",
    "\n",
    "1. Se inicia con un polinomio de grado n y se eligen valores iniciales para las aproximaciones de las raíces *r* y *s*.\n",
    "\n",
    "2. Se realizan iteraciones hasta que se alcance una condición de convergencia. En cada iteración, se calculan los coeficientes *b* y *c* utilizando la división sintética.\n",
    "\n",
    "3. Se calcula el determinante de la matriz de coeficientes *c* y se utiliza para obtener las correcciones *Δr* y *Δs*.\n",
    "\n",
    "4. Se actualizan los valores de *r* y *s* sumándoles las correcciones obtenidas en el paso anterior.\n",
    "\n",
    "5. Se repiten los pasos 2 a 4 hasta que se alcance la condición de convergencia o se exceda el número máximo de iteraciones permitidas.\n",
    "\n",
    "6. Se obtienen las raíces del polinomio. Si el grado del polinomio restante es 2, se resuelve la ecuación cuadrática restante. Si el grado es 1, se obtiene una única raíz.\n",
    "\n",
    "Este método puede encontrar todas las raíces reales y complejas de un polinomio, pero es importante tener en cuenta que la elección de los valores iniciales *r* y *s* puede afectar la convergencia del algoritmo.\n"
   ]
  },
  {
   "cell_type": "code",
   "execution_count": 2,
   "metadata": {},
   "outputs": [],
   "source": [
    "import numpy as np\n",
    "\n",
    "def bairstow(polynomial, r, s, tolerance=1e-6, max_iterations=100):\n",
    "    coefficients = polynomial[:]\n",
    "    n = len(coefficients) - 1\n",
    "    roots = []\n",
    "    \n",
    "    while n > 2:\n",
    "        iterations = 0\n",
    "        delta_r = 1.0\n",
    "        delta_s = 1.0\n",
    "        \n",
    "        while delta_r > tolerance or delta_s > tolerance:\n",
    "            b = np.zeros(n+1)\n",
    "            c = np.zeros(n+1)\n",
    "            \n",
    "            b[-1] = coefficients[-1]\n",
    "            b[-2] = coefficients[-2] + r * b[-1]\n",
    "            c[-1] = b[-1]\n",
    "            c[-2] = b[-2] + r * c[-1]\n",
    "            \n",
    "            for i in range(n-2, -1, -1):\n",
    "                b[i] = coefficients[i] + r * b[i+1] + s * b[i+2]\n",
    "                c[i] = b[i] + r * c[i+1] + s * c[i+2]\n",
    "            \n",
    "            det = c[2] * c[2] - c[3] * c[1]\n",
    "            delta_r = (-b[1] * c[2] + b[0] * c[3]) / det\n",
    "            delta_s = (-b[0] * c[2] + b[1] * c[1]) / det\n",
    "            \n",
    "            r += delta_r\n",
    "            s += delta_s\n",
    "            iterations += 1\n",
    "            \n",
    "            if iterations > max_iterations:\n",
    "                raise ValueError(\"El método de Bairstow no converge.\")\n",
    "        \n",
    "        roots.append(complex(r, s))\n",
    "        coefficients = coefficients[:-2]\n",
    "        n -= 2\n",
    "    \n",
    "    if n == 2:\n",
    "        # Resolver ecuación cuadrática restante\n",
    "        a = coefficients[0]\n",
    "        b = coefficients[1]\n",
    "        c = coefficients[2]\n",
    "        discriminant = b * b - 4 * a * c\n",
    "        root1 = (-b + np.sqrt(discriminant)) / (2 * a)\n",
    "        root2 = (-b - np.sqrt(discriminant)) / (2 * a)\n",
    "        roots.extend([root1, root2])\n",
    "    elif n == 1:\n",
    "        roots.append(-coefficients[1] / coefficients[0])\n",
    "    \n",
    "    return roots"
   ]
  },
  {
   "cell_type": "code",
   "execution_count": 5,
   "metadata": {},
   "outputs": [
    {
     "name": "stdout",
     "output_type": "stream",
     "text": [
      "Las raices del polinomio son:  [(0.009379690131956664+0.7951190813782154j), 3.0, 2.0]\n"
     ]
    }
   ],
   "source": [
    "polynomial = [1, -5, 6, 7, 12]\n",
    "r = 1.0\n",
    "s = 1.0\n",
    "roots = bairstow(polynomial, r, s)\n",
    "print(\"Las raices del polinomio son: \",roots)"
   ]
  }
 ],
 "metadata": {
  "kernelspec": {
   "display_name": "Python 3",
   "language": "python",
   "name": "python3"
  },
  "language_info": {
   "codemirror_mode": {
    "name": "ipython",
    "version": 3
   },
   "file_extension": ".py",
   "mimetype": "text/x-python",
   "name": "python",
   "nbconvert_exporter": "python",
   "pygments_lexer": "ipython3",
   "version": "3.8.10"
  },
  "orig_nbformat": 4
 },
 "nbformat": 4,
 "nbformat_minor": 2
}
