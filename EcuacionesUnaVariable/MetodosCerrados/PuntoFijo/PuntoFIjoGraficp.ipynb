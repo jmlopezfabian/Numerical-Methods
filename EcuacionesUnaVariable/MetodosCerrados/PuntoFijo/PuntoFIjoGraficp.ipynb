{
 "cells": [
  {
   "attachments": {},
   "cell_type": "markdown",
   "metadata": {},
   "source": [
    "# Iteración de punto fijo\n",
    "\n",
    "### Puntos fijos de una funcion\n",
    "\n",
    "Definicion: Un número real a es un **punto fijo** de la funcion $g$ si $$g(a) = a$$\n",
    "\n",
    "Una vez que la ecuación se escribe como $g(x) = x$, procede la iteración, empezando con una estimación inicial $x_{0}$ para despues iterar la funcion $g$"
   ]
  },
  {
   "cell_type": "code",
   "execution_count": 2,
   "metadata": {},
   "outputs": [],
   "source": [
    "import matplotlib.pyplot as plt\n",
    "from math import *"
   ]
  },
  {
   "cell_type": "code",
   "execution_count": 4,
   "metadata": {},
   "outputs": [],
   "source": [
    "def g(x):\n",
    "    return cos(x)"
   ]
  },
  {
   "cell_type": "code",
   "execution_count": null,
   "metadata": {},
   "outputs": [],
   "source": [
    "def punto_fijo(g,x0,tol):\n",
    "    while()"
   ]
  }
 ],
 "metadata": {
  "kernelspec": {
   "display_name": "Python 3",
   "language": "python",
   "name": "python3"
  },
  "language_info": {
   "codemirror_mode": {
    "name": "ipython",
    "version": 3
   },
   "file_extension": ".py",
   "mimetype": "text/x-python",
   "name": "python",
   "nbconvert_exporter": "python",
   "pygments_lexer": "ipython3",
   "version": "3.8.10"
  },
  "orig_nbformat": 4
 },
 "nbformat": 4,
 "nbformat_minor": 2
}
