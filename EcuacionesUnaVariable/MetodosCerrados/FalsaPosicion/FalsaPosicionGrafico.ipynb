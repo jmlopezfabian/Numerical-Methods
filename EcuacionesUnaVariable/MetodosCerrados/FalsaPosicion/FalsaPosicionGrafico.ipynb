{
 "cells": [
  {
   "cell_type": "code",
   "execution_count": 24,
   "metadata": {},
   "outputs": [
    {
     "name": "stdout",
     "output_type": "stream",
     "text": [
      "1.3098027996863728\n",
      "5\n"
     ]
    }
   ],
   "source": [
    "import numpy as np\n",
    "import math\n",
    "import matplotlib.pyplot as plt\n",
    "\n",
    "def f(x):\n",
    "    return math.exp(-x) - math.log(x)\n",
    "\n",
    "def falsa_posicion(f, a, b, tol, n):\n",
    "    if(f(a) * f(b) > 0):\n",
    "        print(f\"No hay raiz en el intervalo [{a},{b}]\")\n",
    "        return None\n",
    "    else:\n",
    "        for i in range(0,n):\n",
    "            xr = a - ( (f(a) * (b-a)) / (f(b) - f(a)))\n",
    "            if(f(xr) == 0):\n",
    "                return [xr,i]\n",
    "            elif(f(a) * f(xr) < 0):\n",
    "                b = xr\n",
    "            else:\n",
    "                a = xr\n",
    "            if(abs(f(xr)) < tol):\n",
    "                return [xr,i]\n",
    "            \n",
    "a = falsa_posicion(f,1,2,0.00001,200)\n",
    "print(a[0])\n",
    "print(a[1])"
   ]
  },
  {
   "attachments": {},
   "cell_type": "markdown",
   "metadata": {},
   "source": []
  }
 ],
 "metadata": {
  "kernelspec": {
   "display_name": "Python 3",
   "language": "python",
   "name": "python3"
  },
  "language_info": {
   "codemirror_mode": {
    "name": "ipython",
    "version": 3
   },
   "file_extension": ".py",
   "mimetype": "text/x-python",
   "name": "python",
   "nbconvert_exporter": "python",
   "pygments_lexer": "ipython3",
   "version": "3.8.10"
  },
  "orig_nbformat": 4
 },
 "nbformat": 4,
 "nbformat_minor": 2
}
